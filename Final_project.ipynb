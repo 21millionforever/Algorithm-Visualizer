{
  "nbformat": 4,
  "nbformat_minor": 0,
  "metadata": {
    "colab": {
      "provenance": [],
      "collapsed_sections": [],
      "authorship_tag": "ABX9TyOjXmMg/sZfY89YGt7cBxbz",
      "include_colab_link": true
    },
    "kernelspec": {
      "name": "python3",
      "display_name": "Python 3"
    },
    "language_info": {
      "name": "python"
    }
  },
  "cells": [
    {
      "cell_type": "markdown",
      "metadata": {
        "id": "view-in-github",
        "colab_type": "text"
      },
      "source": [
        "<a href=\"https://colab.research.google.com/github/21millionforever/Algorithm-Visualizer/blob/main/Final_project.ipynb\" target=\"_parent\"><img src=\"https://colab.research.google.com/assets/colab-badge.svg\" alt=\"Open In Colab\"/></a>"
      ]
    },
    {
      "cell_type": "code",
      "execution_count": 190,
      "metadata": {
        "id": "w8v9ScY8t_zc"
      },
      "outputs": [],
      "source": [
        "import pandas as pd\n",
        "import numpy as np\n",
        "import matplotlib.pyplot as plt\n",
        "from sklearn.preprocessing import RobustScaler\n",
        "\n",
        "from sklearn.model_selection import KFold, StratifiedKFold"
      ]
    },
    {
      "cell_type": "code",
      "source": [
        "df = pd.read_csv('creditcard.csv')\n",
        "print(df.head())"
      ],
      "metadata": {
        "colab": {
          "base_uri": "https://localhost:8080/"
        },
        "id": "BmdNE_hruKp5",
        "outputId": "b6a78043-7503-4c1c-a7fc-462350fb079a"
      },
      "execution_count": 191,
      "outputs": [
        {
          "output_type": "stream",
          "name": "stdout",
          "text": [
            "   Time        V1        V2        V3        V4        V5        V6        V7  \\\n",
            "0   0.0 -1.359807 -0.072781  2.536347  1.378155 -0.338321  0.462388  0.239599   \n",
            "1   0.0  1.191857  0.266151  0.166480  0.448154  0.060018 -0.082361 -0.078803   \n",
            "2   1.0 -1.358354 -1.340163  1.773209  0.379780 -0.503198  1.800499  0.791461   \n",
            "3   1.0 -0.966272 -0.185226  1.792993 -0.863291 -0.010309  1.247203  0.237609   \n",
            "4   2.0 -1.158233  0.877737  1.548718  0.403034 -0.407193  0.095921  0.592941   \n",
            "\n",
            "         V8        V9  ...       V21       V22       V23       V24       V25  \\\n",
            "0  0.098698  0.363787  ... -0.018307  0.277838 -0.110474  0.066928  0.128539   \n",
            "1  0.085102 -0.255425  ... -0.225775 -0.638672  0.101288 -0.339846  0.167170   \n",
            "2  0.247676 -1.514654  ...  0.247998  0.771679  0.909412 -0.689281 -0.327642   \n",
            "3  0.377436 -1.387024  ... -0.108300  0.005274 -0.190321 -1.175575  0.647376   \n",
            "4 -0.270533  0.817739  ... -0.009431  0.798278 -0.137458  0.141267 -0.206010   \n",
            "\n",
            "        V26       V27       V28  Amount  Class  \n",
            "0 -0.189115  0.133558 -0.021053  149.62      0  \n",
            "1  0.125895 -0.008983  0.014724    2.69      0  \n",
            "2 -0.139097 -0.055353 -0.059752  378.66      0  \n",
            "3 -0.221929  0.062723  0.061458  123.50      0  \n",
            "4  0.502292  0.219422  0.215153   69.99      0  \n",
            "\n",
            "[5 rows x 31 columns]\n"
          ]
        }
      ]
    },
    {
      "cell_type": "code",
      "source": [
        "# Check if we have null value in the dataset\n",
        "df.isnull().sum().max()"
      ],
      "metadata": {
        "colab": {
          "base_uri": "https://localhost:8080/"
        },
        "id": "LYz6YG6SuKsO",
        "outputId": "c5824b58-7b21-4e0f-c195-5dfef397ff79"
      },
      "execution_count": 192,
      "outputs": [
        {
          "output_type": "execute_result",
          "data": {
            "text/plain": [
              "0"
            ]
          },
          "metadata": {},
          "execution_count": 192
        }
      ]
    },
    {
      "cell_type": "code",
      "source": [
        "# The dataset is extremly imbalanced\n",
        "fraud_num = df['Class'].value_counts()[0]\n",
        "non_fraud_num = df['Class'].value_counts()[1]\n",
        "print(\"The total number of fraud transactions: {}\".format(fraud_num))\n",
        "print(\"The total number of non-fraud transactions: {}\".format(non_fraud_num))\n",
        "print(\"Fraud rate: {}%\".format(round(fraud_num/len(df) * 100, 2)))\n",
        "print(\"Non-fraud rate: {}%\".format(round(non_fraud_num/len(df) * 100, 2)))"
      ],
      "metadata": {
        "colab": {
          "base_uri": "https://localhost:8080/"
        },
        "id": "jG1vGR0ZuKu7",
        "outputId": "c0253c79-56d1-4ff4-e145-994a8c2ee605"
      },
      "execution_count": 193,
      "outputs": [
        {
          "output_type": "stream",
          "name": "stdout",
          "text": [
            "The total number of fraud transactions: 284315\n",
            "The total number of non-fraud transactions: 492\n",
            "Fraud rate: 99.83%\n",
            "Non-fraud rate: 0.17%\n"
          ]
        }
      ]
    },
    {
      "cell_type": "code",
      "source": [
        "fig = plt.figure()\n",
        "ax = fig.add_axes([0,0,1,1])\n",
        "x = np.array(['Fraud', 'Non-fraud'])\n",
        "y = np.array([fraud_num, non_fraud_num])\n",
        "bar_color = np.array(['red','green'])\n",
        "ax.bar(x, height = y, color = bar_color)\n",
        "\n",
        "for i in range(len(x)):\n",
        "  plt.text(i,y[i], y[i], ha=\"center\", va=\"bottom\")\n",
        "plt.title(\"The number of fraud transactions VS non-fraud transactions in the dataset\")\n",
        "plt.xlabel(\"Types of transactions\")\n",
        "plt.ylabel(\"Number of transactions\")\n",
        "plt.show()\n",
        "\n"
      ],
      "metadata": {
        "colab": {
          "base_uri": "https://localhost:8080/",
          "height": 366
        },
        "id": "Xo5SnwqSuKxL",
        "outputId": "9a623dc4-6bcd-4f69-efbb-3aab55c2bba2"
      },
      "execution_count": 194,
      "outputs": [
        {
          "output_type": "display_data",
          "data": {
            "text/plain": [
              "<Figure size 432x288 with 1 Axes>"
            ],
            "image/png": "[encoded data removed]"
          },
          "metadata": {
            "needs_background": "light"
          }
        }
      ]
    },
    {
      "cell_type": "code",
      "source": [
        "# Task 1:\n",
        "# 做一个百分比圆环图来展示Fraud和Non-fraud在我们dataset里面的占比\n",
        "\n",
        "\n"
      ],
      "metadata": {
        "id": "lvR-gJi_uK14"
      },
      "execution_count": 195,
      "outputs": []
    },
    {
      "cell_type": "code",
      "source": [
        "# Sacle the data\n",
        "# Since Columns V1 to V28 are already scaled, we only need to scale columns time and amount\n",
        "rob_scaler = RobustScaler()\n",
        "df['Time'] = rob_scaler.fit_transform(df['Time'].values.reshape(-1,1))\n",
        "df['Amount'] = rob_scaler.fit_transform(df['Amount'].values.reshape(-1,1))\n",
        "amount_column = df.pop('Amount')\n",
        "df.insert(1,\"Amount\", amount_column)\n",
        "print(df.head())"
      ],
      "metadata": {
        "colab": {
          "base_uri": "https://localhost:8080/"
        },
        "id": "wMw5YcSauK38",
        "outputId": "9ba1ced0-b38d-4a40-89ec-fb78baeff685"
      },
      "execution_count": 196,
      "outputs": [
        {
          "output_type": "stream",
          "name": "stdout",
          "text": [
            "       Time    Amount        V1        V2        V3        V4        V5  \\\n",
            "0 -0.994983  1.783274 -1.359807 -0.072781  2.536347  1.378155 -0.338321   \n",
            "1 -0.994983 -0.269825  1.191857  0.266151  0.166480  0.448154  0.060018   \n",
            "2 -0.994972  4.983721 -1.358354 -1.340163  1.773209  0.379780 -0.503198   \n",
            "3 -0.994972  1.418291 -0.966272 -0.185226  1.792993 -0.863291 -0.010309   \n",
            "4 -0.994960  0.670579 -1.158233  0.877737  1.548718  0.403034 -0.407193   \n",
            "\n",
            "         V6        V7        V8  ...       V20       V21       V22       V23  \\\n",
            "0  0.462388  0.239599  0.098698  ...  0.251412 -0.018307  0.277838 -0.110474   \n",
            "1 -0.082361 -0.078803  0.085102  ... -0.069083 -0.225775 -0.638672  0.101288   \n",
            "2  1.800499  0.791461  0.247676  ...  0.524980  0.247998  0.771679  0.909412   \n",
            "3  1.247203  0.237609  0.377436  ... -0.208038 -0.108300  0.005274 -0.190321   \n",
            "4  0.095921  0.592941 -0.270533  ...  0.408542 -0.009431  0.798278 -0.137458   \n",
            "\n",
            "        V24       V25       V26       V27       V28  Class  \n",
            "0  0.066928  0.128539 -0.189115  0.133558 -0.021053      0  \n",
            "1 -0.339846  0.167170  0.125895 -0.008983  0.014724      0  \n",
            "2 -0.689281 -0.327642 -0.139097 -0.055353 -0.059752      0  \n",
            "3 -1.175575  0.647376 -0.221929  0.062723  0.061458      0  \n",
            "4  0.141267 -0.206010  0.502292  0.219422  0.215153      0  \n",
            "\n",
            "[5 rows x 31 columns]\n"
          ]
        }
      ]
    },
    {
      "cell_type": "code",
      "source": [
        "X = df.drop('Class', axis=1)\n",
        "y = df['Class']\n",
        "\n",
        "sss = StratifiedKFold(n_splits=5, random_state=None, shuffle=False)\n",
        "\n",
        "\n",
        "for train_index, test_index in sss.split(X, y):\n",
        "    # print(\"Train:\", len(train_index), \"Test:\", len(test_index)) # Train: 227845 Test: 56962\n",
        "    original_Xtrain, original_Xtest = X.iloc[train_index], X.iloc[test_index]\n",
        "    original_ytrain, original_ytest = y.iloc[train_index], y.iloc[test_index]\n",
        "    # print(type(original_ytrain))\n",
        "    # print(type(original_ytrain.values))\n",
        "    # Turn into an array\n",
        "    original_Xtrain = original_Xtrain.values\n",
        "    original_Xtest = original_Xtest.values\n",
        "    original_ytrain = original_ytrain.values\n",
        "    original_ytest = original_ytest.values\n",
        "\n",
        "    df = df.sample(frac=1)\n",
        "\n",
        "    # amount of fraud classes 492 rows.\n",
        "    fraud_df = df.loc[df['Class'] == 1]\n",
        "    non_fraud_df = df.loc[df['Class'] == 0][:492]\n",
        "\n",
        "    normal_distributed_df = pd.concat([fraud_df, non_fraud_df])\n",
        "\n",
        "    # Shuffle dataframe rows\n",
        "    new_df = normal_distributed_df.sample(frac=1, random_state=42)\n",
        "    print(new_df.head())\n",
        "    new_X = new_df.drop('Class', axis=1)\n",
        "    new_y = new_df['Class']\n",
        "\n",
        "\n"
      ],
      "metadata": {
        "colab": {
          "base_uri": "https://localhost:8080/"
        },
        "id": "xeDvHNGuBh9R",
        "outputId": "51c18042-5f43-4460-d2de-04705bcf4a2e"
      },
      "execution_count": 198,
      "outputs": [
        {
          "output_type": "stream",
          "name": "stdout",
          "text": [
            "            Time    Amount         V1         V2         V3        V4  \\\n",
            "9705   -0.825021 -0.098512   1.303975  -0.258310  -0.721635 -0.854541   \n",
            "243393  0.789765 -0.307273  -5.488032   3.329561  -5.996296  3.601720   \n",
            "78402  -0.319341  7.985188   0.339087  -2.318275  -1.010969 -0.444308   \n",
            "243699  0.791175 -0.293440  -4.320609   3.199939  -5.799736  6.502330   \n",
            "15225  -0.682656  1.089779 -19.856322  12.095893 -22.464083  6.115541   \n",
            "\n",
            "               V5        V6         V7         V8  ...       V20       V21  \\\n",
            "9705     1.701450  3.425969  -1.015053   0.794230  ...  0.044627 -0.119766   \n",
            "243393  -2.023926 -1.737393  -4.396859   0.228394  ... -0.551121  1.719631   \n",
            "78402   -0.729891  0.116549   0.425298  -0.269892  ...  1.329564  0.487281   \n",
            "243699   0.378479 -1.948246  -2.167860  -0.728207  ... -0.263686  0.476660   \n",
            "15225  -15.148022 -4.346724 -15.648507  13.276805  ...  1.582930  1.750730   \n",
            "\n",
            "             V22       V23       V24       V25       V26       V27       V28  \\\n",
            "9705   -0.231042 -0.050669  1.021962  0.368670  1.046266 -0.086559 -0.000983   \n",
            "243393  0.343209  0.133584  0.833340 -0.839776  0.502010 -1.937473  1.521218   \n",
            "78402   0.143125 -0.844141 -0.735300  0.725933 -0.074669 -0.119724  0.084953   \n",
            "243699  0.434278 -0.136940 -0.620072  0.642531  0.280717 -2.649107  0.533641   \n",
            "15225  -1.409636 -0.809809  0.121397  1.350300 -0.224292  1.597621  0.476920   \n",
            "\n",
            "        Class  \n",
            "9705        0  \n",
            "243393      1  \n",
            "78402       0  \n",
            "243699      1  \n",
            "15225       1  \n",
            "\n",
            "[5 rows x 31 columns]\n",
            "            Time     Amount        V1        V2        V3        V4        V5  \\\n",
            "278301  0.980439  -0.097813 -0.833791  0.086040  0.840923 -0.624248  1.736374   \n",
            "244333  0.794358  -0.293440 -5.222968  4.641827 -8.858204  7.723502 -1.507035   \n",
            "206746  0.606880  31.582477 -2.077863 -7.612736 -5.132473  0.851612 -1.687655   \n",
            "73857  -0.345176  -0.295815 -6.159607  1.468713 -6.850888  5.174706 -2.986704   \n",
            "8312   -0.864672  -0.293440  0.378275  3.914797 -5.726872  6.094141  1.698875   \n",
            "\n",
            "              V6        V7        V8  ...       V20       V21       V22  \\\n",
            "278301  0.895835  0.236326  0.382303  ...  0.111396  0.169441  0.505324   \n",
            "244333 -2.159484 -4.205164  0.979334  ... -0.176673  0.561892  0.624207   \n",
            "206746 -0.538771  3.509323 -1.237326  ...  4.635885  1.855826  0.295493   \n",
            "73857  -1.795054 -6.545072  2.621236  ... -0.289830  1.061314  0.125737   \n",
            "8312   -2.807314 -0.591118 -0.123496  ...  0.440439  0.149896 -0.601967   \n",
            "\n",
            "             V23       V24       V25       V26       V27       V28  Class  \n",
            "278301 -0.016908 -0.278117 -0.249593  0.711846  0.086751  0.126093      0  \n",
            "244333  0.536429 -0.628334 -0.222651  0.382208 -2.693036  0.407935      1  \n",
            "206746 -2.214739  0.847619 -0.016145  0.031702 -0.520188  0.309528      0  \n",
            "73857   0.589592 -0.568731  0.582825 -0.042583  0.951130  0.158996      1  \n",
            "8312   -0.613724 -0.403114  1.568445  0.521884  0.527938  0.411910      1  \n",
            "\n",
            "[5 rows x 31 columns]\n",
            "           Time     Amount        V1        V2         V3        V4        V5  \\\n",
            "14409 -0.694815  28.126319 -2.598033 -7.499842  -0.814583  1.421518 -3.927679   \n",
            "8615  -0.858363  -0.293440 -3.891192  7.098916 -11.426467  8.607557 -2.065706   \n",
            "49131 -0.478976   2.717809  0.684618 -0.957420   0.584820  0.669102 -0.742233   \n",
            "27627 -0.588094  -0.042479  0.333499  1.699873  -2.596561  3.643945 -0.585068   \n",
            "30100 -0.574737   0.539370 -3.218952  2.708535  -3.263042  1.361866 -1.645776   \n",
            "\n",
            "             V6        V7        V8  ...       V20       V21       V22  \\\n",
            "14409  0.662921  1.230345 -0.311454  ...  4.104977  1.306770 -0.599699   \n",
            "8615  -2.985288 -8.138589  2.973928  ...  1.382619  1.757085 -0.189709   \n",
            "49131  0.743570 -0.445323  0.382176  ...  0.212239  0.308881  0.564670   \n",
            "27627 -0.654659 -2.275789  0.675229  ...  0.329342  0.469212 -0.144363   \n",
            "30100 -1.852982 -3.069958 -1.796876  ...  0.571654  1.807877 -0.890421   \n",
            "\n",
            "            V23       V24       V25       V26       V27       V28  Class  \n",
            "14409 -1.831263  0.530838 -0.333146 -0.331708 -0.315282  0.377717      0  \n",
            "8615  -0.508629 -1.189308  1.188536  0.605242  1.881529  0.875260      1  \n",
            "49131 -0.217933 -0.222655  0.166149  0.629716 -0.027825  0.034168      0  \n",
            "27627 -0.317981 -0.769644  0.807855  0.228164  0.551002  0.305473      1  \n",
            "30100 -0.325814  0.123040 -0.093014  0.232106 -0.310519 -0.745295      1  \n",
            "\n",
            "[5 rows x 31 columns]\n",
            "            Time    Amount         V1        V2         V3        V4  \\\n",
            "188030  0.506326  6.679243   1.110965 -2.147196  -1.186725 -0.458293   \n",
            "258403  0.868737  3.828687  -5.976119 -7.196980  -5.388316  5.104799   \n",
            "140571 -0.010526 -0.220219  -0.049307  1.024503   0.921423  1.075073   \n",
            "154693  0.210611 -0.293440  -2.488363  4.359019  -7.776410  5.364027   \n",
            "42756  -0.510568 -0.307413 -10.645800  5.918307 -11.671043  8.807369   \n",
            "\n",
            "              V5        V6         V7        V8  ...       V20       V21  \\\n",
            "188030 -1.129868 -0.432071   0.031895 -0.158138  ...  0.844533  0.105371   \n",
            "258403  4.676533 -5.566870  -4.291180  0.876531  ...  3.136338  1.459369   \n",
            "140571  0.851809  0.744318   0.482208  0.069299  ...  0.194152  0.020838   \n",
            "154693 -1.823877 -2.445140  -4.964221  1.484890  ...  0.792275  1.325672   \n",
            "42756  -7.975501 -3.586806 -13.616797  6.428169  ... -0.046170  2.571970   \n",
            "\n",
            "             V22       V23       V24       V25       V26       V27       V28  \\\n",
            "188030 -0.762210  0.001918  0.686713 -0.804268  0.253905 -0.140037  0.045097   \n",
            "258403 -0.136262  0.848177 -0.269916 -1.095060 -0.710905  0.565846 -1.034107   \n",
            "140571  0.213921 -0.236179 -1.296597 -0.314828 -0.166727  0.220556  0.154272   \n",
            "154693  1.021226 -0.266476 -0.370880  0.365535  0.081372  0.184983 -0.211582   \n",
            "42756   0.206809 -1.667801  0.558419 -0.027898  0.354254  0.273329 -0.152908   \n",
            "\n",
            "        Class  \n",
            "188030      0  \n",
            "258403      1  \n",
            "140571      0  \n",
            "154693      1  \n",
            "42756       1  \n",
            "\n",
            "[5 rows x 31 columns]\n",
            "            Time    Amount        V1        V2        V3        V4        V5  \\\n",
            "21994  -0.619309  0.432195  0.908623 -0.391876  0.762262  0.264702 -0.066120   \n",
            "258403  0.868737  3.828687 -5.976119 -7.196980 -5.388316  5.104799  4.676533   \n",
            "123609 -0.090415  1.262489  1.238838 -1.473953  0.044888 -1.218191 -1.452734   \n",
            "220725  0.676559  4.228184 -1.169203  1.863414 -2.515135  5.463681 -0.297971   \n",
            "83053  -0.293977 -0.219800  0.326007  1.286638 -2.007181  2.419675 -1.532902   \n",
            "\n",
            "              V6        V7        V8  ...       V20       V21       V22  \\\n",
            "21994   1.617145 -0.747113  0.682136  ... -0.132639  0.105349  0.299744   \n",
            "258403 -5.566870 -4.291180  0.876531  ...  3.136338  1.459369 -0.136262   \n",
            "123609 -0.375616 -0.852069  0.038941  ... -0.297629 -0.078573 -0.022371   \n",
            "220725  1.364918  0.759219 -0.118861  ... -0.299374 -0.393090 -0.708692   \n",
            "83053  -1.432803 -2.459530  0.617738  ...  0.222667  0.556895  0.169776   \n",
            "\n",
            "             V23       V24       V25       V26       V27       V28  Class  \n",
            "21994   0.174446 -1.012323 -0.235342  0.426831  0.042216  0.007336      0  \n",
            "258403  0.848177 -0.269916 -1.095060 -0.710905  0.565846 -1.034107      1  \n",
            "123609 -0.107219  0.200571  0.449643 -0.068912 -0.001456  0.010970      0  \n",
            "220725  0.471309 -0.078616 -0.544655  0.014777 -0.240930 -0.781055      1  \n",
            "83053  -0.174357  0.308061  0.710996 -0.231030  0.580495  0.300984      1  \n",
            "\n",
            "[5 rows x 31 columns]\n"
          ]
        }
      ]
    },
    {
      "cell_type": "code",
      "source": [],
      "metadata": {
        "id": "PkgdM2ZdGwm_"
      },
      "execution_count": null,
      "outputs": []
    },
    {
      "cell_type": "code",
      "source": [],
      "metadata": {
        "id": "A-SrCnCdBh7L"
      },
      "execution_count": null,
      "outputs": []
    },
    {
      "cell_type": "code",
      "source": [],
      "metadata": {
        "id": "973OIf_aBh5E"
      },
      "execution_count": null,
      "outputs": []
    },
    {
      "cell_type": "code",
      "source": [],
      "metadata": {
        "id": "lN1GBXaBBh2e"
      },
      "execution_count": null,
      "outputs": []
    },
    {
      "cell_type": "code",
      "source": [],
      "metadata": {
        "id": "z8BQYp_LBhsl"
      },
      "execution_count": null,
      "outputs": []
    }
  ]
}